{
 "cells": [
  {
   "cell_type": "code",
   "execution_count": 1,
   "metadata": {
    "cell_id": "f6eb701d20234018b66a9ca8303ec9b4",
    "deepnote_cell_type": "code",
    "execution_context_id": "a3021fa8-e86e-413c-ae0f-9718ccef4806",
    "execution_millis": 17921,
    "execution_start": 1730314255732,
    "source_hash": "57d255dc"
   },
   "outputs": [
    {
     "name": "stderr",
     "output_type": "stream",
     "text": [
      "sed: 1: \"./requirements.txt\": invalid command code .\n"
     ]
    },
    {
     "name": "stdout",
     "output_type": "stream",
     "text": [
      "Looking in indexes: https://pypi.org/simple, https://drake-packages.csail.mit.edu/whl/nightly\n",
      "Requirement already satisfied: manipulation==2024.10.22 in /Users/earlight/Desktop/MIT/-Fall-2024/6.4210/project/ManipulationFinal/.venv/lib/python3.11/site-packages (from -r ./requirements.txt (line 3)) (2024.10.22)\n",
      "Requirement already satisfied: cloudpickle==2.2.1 in /Users/earlight/Desktop/MIT/-Fall-2024/6.4210/project/ManipulationFinal/.venv/lib/python3.11/site-packages (from manipulation==2024.10.22->-r ./requirements.txt (line 3)) (2.2.1)\n",
      "Requirement already satisfied: drake>=1.32.0 in /Users/earlight/Desktop/MIT/-Fall-2024/6.4210/project/ManipulationFinal/.venv/lib/python3.11/site-packages (from manipulation==2024.10.22->-r ./requirements.txt (line 3)) (1.33.0)\n",
      "Requirement already satisfied: gradescope-utils>=0.4.0 in /Users/earlight/Desktop/MIT/-Fall-2024/6.4210/project/ManipulationFinal/.venv/lib/python3.11/site-packages (from manipulation==2024.10.22->-r ./requirements.txt (line 3)) (0.5.0)\n",
      "Requirement already satisfied: ipywidgets>=8 in /Users/earlight/Desktop/MIT/-Fall-2024/6.4210/project/ManipulationFinal/.venv/lib/python3.11/site-packages (from manipulation==2024.10.22->-r ./requirements.txt (line 3)) (8.1.5)\n",
      "Requirement already satisfied: mpld3>=0.5.6 in /Users/earlight/Desktop/MIT/-Fall-2024/6.4210/project/ManipulationFinal/.venv/lib/python3.11/site-packages (from manipulation==2024.10.22->-r ./requirements.txt (line 3)) (0.5.10)\n",
      "Requirement already satisfied: nevergrad>=0.4.3 in /Users/earlight/Desktop/MIT/-Fall-2024/6.4210/project/ManipulationFinal/.venv/lib/python3.11/site-packages (from manipulation==2024.10.22->-r ./requirements.txt (line 3)) (1.0.8)\n",
      "Requirement already satisfied: numpy<2.0.0 in /Users/earlight/Desktop/MIT/-Fall-2024/6.4210/project/ManipulationFinal/.venv/lib/python3.11/site-packages (from manipulation==2024.10.22->-r ./requirements.txt (line 3)) (1.26.4)\n",
      "Requirement already satisfied: psutil>=5.9 in /Users/earlight/Desktop/MIT/-Fall-2024/6.4210/project/ManipulationFinal/.venv/lib/python3.11/site-packages (from manipulation==2024.10.22->-r ./requirements.txt (line 3)) (6.1.0)\n",
      "Requirement already satisfied: pyzmq>=25.0.0 in /Users/earlight/Desktop/MIT/-Fall-2024/6.4210/project/ManipulationFinal/.venv/lib/python3.11/site-packages (from manipulation==2024.10.22->-r ./requirements.txt (line 3)) (26.2.0)\n",
      "Requirement already satisfied: scipy>=1.10.0 in /Users/earlight/Desktop/MIT/-Fall-2024/6.4210/project/ManipulationFinal/.venv/lib/python3.11/site-packages (from manipulation==2024.10.22->-r ./requirements.txt (line 3)) (1.14.1)\n",
      "Requirement already satisfied: stable-baselines3>=2.0.0 in /Users/earlight/Desktop/MIT/-Fall-2024/6.4210/project/ManipulationFinal/.venv/lib/python3.11/site-packages (from manipulation==2024.10.22->-r ./requirements.txt (line 3)) (2.4.0)\n",
      "Requirement already satisfied: timeout-decorator>=0.4.1 in /Users/earlight/Desktop/MIT/-Fall-2024/6.4210/project/ManipulationFinal/.venv/lib/python3.11/site-packages (from manipulation==2024.10.22->-r ./requirements.txt (line 3)) (0.5.0)\n",
      "Requirement already satisfied: torch<2.4.0,>=2.0.1 in /Users/earlight/Desktop/MIT/-Fall-2024/6.4210/project/ManipulationFinal/.venv/lib/python3.11/site-packages (from manipulation==2024.10.22->-r ./requirements.txt (line 3)) (2.3.1)\n",
      "Requirement already satisfied: torchvision>=0.10.1 in /Users/earlight/Desktop/MIT/-Fall-2024/6.4210/project/ManipulationFinal/.venv/lib/python3.11/site-packages (from manipulation==2024.10.22->-r ./requirements.txt (line 3)) (0.18.1)\n",
      "Requirement already satisfied: tqdm>=4 in /Users/earlight/Desktop/MIT/-Fall-2024/6.4210/project/ManipulationFinal/.venv/lib/python3.11/site-packages (from manipulation==2024.10.22->-r ./requirements.txt (line 3)) (4.67.1)\n",
      "Requirement already satisfied: trimesh<4.2.0,>=4.0.0 in /Users/earlight/Desktop/MIT/-Fall-2024/6.4210/project/ManipulationFinal/.venv/lib/python3.11/site-packages (from trimesh[recommend]<4.2.0,>=4.0.0->manipulation==2024.10.22->-r ./requirements.txt (line 3)) (4.1.8)\n",
      "Requirement already satisfied: vhacdx>=0.0.5 in /Users/earlight/Desktop/MIT/-Fall-2024/6.4210/project/ManipulationFinal/.venv/lib/python3.11/site-packages (from manipulation==2024.10.22->-r ./requirements.txt (line 3)) (0.0.8.post1)\n",
      "Requirement already satisfied: matplotlib in /Users/earlight/Desktop/MIT/-Fall-2024/6.4210/project/ManipulationFinal/.venv/lib/python3.11/site-packages (from drake>=1.32.0->manipulation==2024.10.22->-r ./requirements.txt (line 3)) (3.9.3)\n",
      "Requirement already satisfied: pydot in /Users/earlight/Desktop/MIT/-Fall-2024/6.4210/project/ManipulationFinal/.venv/lib/python3.11/site-packages (from drake>=1.32.0->manipulation==2024.10.22->-r ./requirements.txt (line 3)) (3.0.3)\n",
      "Requirement already satisfied: PyYAML in /Users/earlight/Desktop/MIT/-Fall-2024/6.4210/project/ManipulationFinal/.venv/lib/python3.11/site-packages (from drake>=1.32.0->manipulation==2024.10.22->-r ./requirements.txt (line 3)) (6.0.2)\n",
      "Requirement already satisfied: comm>=0.1.3 in /Users/earlight/Desktop/MIT/-Fall-2024/6.4210/project/ManipulationFinal/.venv/lib/python3.11/site-packages (from ipywidgets>=8->manipulation==2024.10.22->-r ./requirements.txt (line 3)) (0.2.2)\n",
      "Requirement already satisfied: ipython>=6.1.0 in /Users/earlight/Desktop/MIT/-Fall-2024/6.4210/project/ManipulationFinal/.venv/lib/python3.11/site-packages (from ipywidgets>=8->manipulation==2024.10.22->-r ./requirements.txt (line 3)) (8.30.0)\n",
      "Requirement already satisfied: traitlets>=4.3.1 in /Users/earlight/Desktop/MIT/-Fall-2024/6.4210/project/ManipulationFinal/.venv/lib/python3.11/site-packages (from ipywidgets>=8->manipulation==2024.10.22->-r ./requirements.txt (line 3)) (5.14.3)\n",
      "Requirement already satisfied: widgetsnbextension~=4.0.12 in /Users/earlight/Desktop/MIT/-Fall-2024/6.4210/project/ManipulationFinal/.venv/lib/python3.11/site-packages (from ipywidgets>=8->manipulation==2024.10.22->-r ./requirements.txt (line 3)) (4.0.13)\n",
      "Requirement already satisfied: jupyterlab-widgets~=3.0.12 in /Users/earlight/Desktop/MIT/-Fall-2024/6.4210/project/ManipulationFinal/.venv/lib/python3.11/site-packages (from ipywidgets>=8->manipulation==2024.10.22->-r ./requirements.txt (line 3)) (3.0.13)\n",
      "Requirement already satisfied: jinja2 in /Users/earlight/Desktop/MIT/-Fall-2024/6.4210/project/ManipulationFinal/.venv/lib/python3.11/site-packages (from mpld3>=0.5.6->manipulation==2024.10.22->-r ./requirements.txt (line 3)) (3.1.4)\n",
      "Requirement already satisfied: cma>=2.6.0 in /Users/earlight/Desktop/MIT/-Fall-2024/6.4210/project/ManipulationFinal/.venv/lib/python3.11/site-packages (from nevergrad>=0.4.3->manipulation==2024.10.22->-r ./requirements.txt (line 3)) (4.0.0)\n",
      "Requirement already satisfied: bayesian-optimization==1.4.0 in /Users/earlight/Desktop/MIT/-Fall-2024/6.4210/project/ManipulationFinal/.venv/lib/python3.11/site-packages (from nevergrad>=0.4.3->manipulation==2024.10.22->-r ./requirements.txt (line 3)) (1.4.0)\n",
      "Requirement already satisfied: typing_extensions>=3.6.6 in /Users/earlight/Desktop/MIT/-Fall-2024/6.4210/project/ManipulationFinal/.venv/lib/python3.11/site-packages (from nevergrad>=0.4.3->manipulation==2024.10.22->-r ./requirements.txt (line 3)) (4.12.2)\n",
      "Requirement already satisfied: pandas in /Users/earlight/Desktop/MIT/-Fall-2024/6.4210/project/ManipulationFinal/.venv/lib/python3.11/site-packages (from nevergrad>=0.4.3->manipulation==2024.10.22->-r ./requirements.txt (line 3)) (2.2.3)\n",
      "Requirement already satisfied: colorama==0.4.0 in /Users/earlight/Desktop/MIT/-Fall-2024/6.4210/project/ManipulationFinal/.venv/lib/python3.11/site-packages (from nevergrad>=0.4.3->manipulation==2024.10.22->-r ./requirements.txt (line 3)) (0.4.0)\n",
      "Requirement already satisfied: directsearch in /Users/earlight/Desktop/MIT/-Fall-2024/6.4210/project/ManipulationFinal/.venv/lib/python3.11/site-packages (from nevergrad>=0.4.3->manipulation==2024.10.22->-r ./requirements.txt (line 3)) (1.0)\n",
      "Requirement already satisfied: scikit-learn>=0.18.0 in /Users/earlight/Desktop/MIT/-Fall-2024/6.4210/project/ManipulationFinal/.venv/lib/python3.11/site-packages (from bayesian-optimization==1.4.0->nevergrad>=0.4.3->manipulation==2024.10.22->-r ./requirements.txt (line 3)) (1.5.2)\n",
      "Requirement already satisfied: gymnasium<1.1.0,>=0.29.1 in /Users/earlight/Desktop/MIT/-Fall-2024/6.4210/project/ManipulationFinal/.venv/lib/python3.11/site-packages (from stable-baselines3>=2.0.0->manipulation==2024.10.22->-r ./requirements.txt (line 3)) (1.0.0)\n",
      "Requirement already satisfied: filelock in /Users/earlight/Desktop/MIT/-Fall-2024/6.4210/project/ManipulationFinal/.venv/lib/python3.11/site-packages (from torch<2.4.0,>=2.0.1->manipulation==2024.10.22->-r ./requirements.txt (line 3)) (3.16.1)\n",
      "Requirement already satisfied: sympy in /Users/earlight/Desktop/MIT/-Fall-2024/6.4210/project/ManipulationFinal/.venv/lib/python3.11/site-packages (from torch<2.4.0,>=2.0.1->manipulation==2024.10.22->-r ./requirements.txt (line 3)) (1.13.3)\n",
      "Requirement already satisfied: networkx in /Users/earlight/Desktop/MIT/-Fall-2024/6.4210/project/ManipulationFinal/.venv/lib/python3.11/site-packages (from torch<2.4.0,>=2.0.1->manipulation==2024.10.22->-r ./requirements.txt (line 3)) (3.4.2)\n",
      "Requirement already satisfied: fsspec in /Users/earlight/Desktop/MIT/-Fall-2024/6.4210/project/ManipulationFinal/.venv/lib/python3.11/site-packages (from torch<2.4.0,>=2.0.1->manipulation==2024.10.22->-r ./requirements.txt (line 3)) (2024.10.0)\n",
      "Requirement already satisfied: pillow!=8.3.*,>=5.3.0 in /Users/earlight/Desktop/MIT/-Fall-2024/6.4210/project/ManipulationFinal/.venv/lib/python3.11/site-packages (from torchvision>=0.10.1->manipulation==2024.10.22->-r ./requirements.txt (line 3)) (11.0.0)\n",
      "Requirement already satisfied: glooey in /Users/earlight/Desktop/MIT/-Fall-2024/6.4210/project/ManipulationFinal/.venv/lib/python3.11/site-packages (from trimesh[recommend]<4.2.0,>=4.0.0->manipulation==2024.10.22->-r ./requirements.txt (line 3)) (0.3.6)\n",
      "Requirement already satisfied: meshio in /Users/earlight/Desktop/MIT/-Fall-2024/6.4210/project/ManipulationFinal/.venv/lib/python3.11/site-packages (from trimesh[recommend]<4.2.0,>=4.0.0->manipulation==2024.10.22->-r ./requirements.txt (line 3)) (5.3.5)\n",
      "Requirement already satisfied: pyglet<2 in /Users/earlight/Desktop/MIT/-Fall-2024/6.4210/project/ManipulationFinal/.venv/lib/python3.11/site-packages (from trimesh[recommend]<4.2.0,>=4.0.0->manipulation==2024.10.22->-r ./requirements.txt (line 3)) (1.5.29)\n",
      "Requirement already satisfied: scikit-image in /Users/earlight/Desktop/MIT/-Fall-2024/6.4210/project/ManipulationFinal/.venv/lib/python3.11/site-packages (from trimesh[recommend]<4.2.0,>=4.0.0->manipulation==2024.10.22->-r ./requirements.txt (line 3)) (0.24.0)\n",
      "Requirement already satisfied: python-fcl in /Users/earlight/Desktop/MIT/-Fall-2024/6.4210/project/ManipulationFinal/.venv/lib/python3.11/site-packages (from trimesh[recommend]<4.2.0,>=4.0.0->manipulation==2024.10.22->-r ./requirements.txt (line 3)) (0.7.0.6)\n",
      "Requirement already satisfied: manifold3d>=2.3.0 in /Users/earlight/Desktop/MIT/-Fall-2024/6.4210/project/ManipulationFinal/.venv/lib/python3.11/site-packages (from trimesh[recommend]<4.2.0,>=4.0.0->manipulation==2024.10.22->-r ./requirements.txt (line 3)) (3.0.0)\n",
      "Requirement already satisfied: farama-notifications>=0.0.1 in /Users/earlight/Desktop/MIT/-Fall-2024/6.4210/project/ManipulationFinal/.venv/lib/python3.11/site-packages (from gymnasium<1.1.0,>=0.29.1->stable-baselines3>=2.0.0->manipulation==2024.10.22->-r ./requirements.txt (line 3)) (0.0.4)\n",
      "Requirement already satisfied: decorator in /Users/earlight/Desktop/MIT/-Fall-2024/6.4210/project/ManipulationFinal/.venv/lib/python3.11/site-packages (from ipython>=6.1.0->ipywidgets>=8->manipulation==2024.10.22->-r ./requirements.txt (line 3)) (5.1.1)\n",
      "Requirement already satisfied: jedi>=0.16 in /Users/earlight/Desktop/MIT/-Fall-2024/6.4210/project/ManipulationFinal/.venv/lib/python3.11/site-packages (from ipython>=6.1.0->ipywidgets>=8->manipulation==2024.10.22->-r ./requirements.txt (line 3)) (0.19.2)\n",
      "Requirement already satisfied: matplotlib-inline in /Users/earlight/Desktop/MIT/-Fall-2024/6.4210/project/ManipulationFinal/.venv/lib/python3.11/site-packages (from ipython>=6.1.0->ipywidgets>=8->manipulation==2024.10.22->-r ./requirements.txt (line 3)) (0.1.7)\n",
      "Requirement already satisfied: pexpect>4.3 in /Users/earlight/Desktop/MIT/-Fall-2024/6.4210/project/ManipulationFinal/.venv/lib/python3.11/site-packages (from ipython>=6.1.0->ipywidgets>=8->manipulation==2024.10.22->-r ./requirements.txt (line 3)) (4.9.0)\n",
      "Requirement already satisfied: prompt_toolkit<3.1.0,>=3.0.41 in /Users/earlight/Desktop/MIT/-Fall-2024/6.4210/project/ManipulationFinal/.venv/lib/python3.11/site-packages (from ipython>=6.1.0->ipywidgets>=8->manipulation==2024.10.22->-r ./requirements.txt (line 3)) (3.0.48)\n",
      "Requirement already satisfied: pygments>=2.4.0 in /Users/earlight/Desktop/MIT/-Fall-2024/6.4210/project/ManipulationFinal/.venv/lib/python3.11/site-packages (from ipython>=6.1.0->ipywidgets>=8->manipulation==2024.10.22->-r ./requirements.txt (line 3)) (2.18.0)\n",
      "Requirement already satisfied: stack_data in /Users/earlight/Desktop/MIT/-Fall-2024/6.4210/project/ManipulationFinal/.venv/lib/python3.11/site-packages (from ipython>=6.1.0->ipywidgets>=8->manipulation==2024.10.22->-r ./requirements.txt (line 3)) (0.6.3)\n",
      "Requirement already satisfied: more_itertools in /Users/earlight/Desktop/MIT/-Fall-2024/6.4210/project/ManipulationFinal/.venv/lib/python3.11/site-packages (from glooey->trimesh[recommend]<4.2.0,>=4.0.0->manipulation==2024.10.22->-r ./requirements.txt (line 3)) (10.5.0)\n",
      "Requirement already satisfied: vecrec in /Users/earlight/Desktop/MIT/-Fall-2024/6.4210/project/ManipulationFinal/.venv/lib/python3.11/site-packages (from glooey->trimesh[recommend]<4.2.0,>=4.0.0->manipulation==2024.10.22->-r ./requirements.txt (line 3)) (0.3.1)\n",
      "Requirement already satisfied: autoprop in /Users/earlight/Desktop/MIT/-Fall-2024/6.4210/project/ManipulationFinal/.venv/lib/python3.11/site-packages (from glooey->trimesh[recommend]<4.2.0,>=4.0.0->manipulation==2024.10.22->-r ./requirements.txt (line 3)) (4.1.0)\n",
      "Requirement already satisfied: MarkupSafe>=2.0 in /Users/earlight/Desktop/MIT/-Fall-2024/6.4210/project/ManipulationFinal/.venv/lib/python3.11/site-packages (from jinja2->mpld3>=0.5.6->manipulation==2024.10.22->-r ./requirements.txt (line 3)) (3.0.2)\n",
      "Requirement already satisfied: contourpy>=1.0.1 in /Users/earlight/Desktop/MIT/-Fall-2024/6.4210/project/ManipulationFinal/.venv/lib/python3.11/site-packages (from matplotlib->drake>=1.32.0->manipulation==2024.10.22->-r ./requirements.txt (line 3)) (1.3.1)\n",
      "Requirement already satisfied: cycler>=0.10 in /Users/earlight/Desktop/MIT/-Fall-2024/6.4210/project/ManipulationFinal/.venv/lib/python3.11/site-packages (from matplotlib->drake>=1.32.0->manipulation==2024.10.22->-r ./requirements.txt (line 3)) (0.12.1)\n",
      "Requirement already satisfied: fonttools>=4.22.0 in /Users/earlight/Desktop/MIT/-Fall-2024/6.4210/project/ManipulationFinal/.venv/lib/python3.11/site-packages (from matplotlib->drake>=1.32.0->manipulation==2024.10.22->-r ./requirements.txt (line 3)) (4.55.2)\n",
      "Requirement already satisfied: kiwisolver>=1.3.1 in /Users/earlight/Desktop/MIT/-Fall-2024/6.4210/project/ManipulationFinal/.venv/lib/python3.11/site-packages (from matplotlib->drake>=1.32.0->manipulation==2024.10.22->-r ./requirements.txt (line 3)) (1.4.7)\n",
      "Requirement already satisfied: packaging>=20.0 in /Users/earlight/Desktop/MIT/-Fall-2024/6.4210/project/ManipulationFinal/.venv/lib/python3.11/site-packages (from matplotlib->drake>=1.32.0->manipulation==2024.10.22->-r ./requirements.txt (line 3)) (24.2)\n",
      "Requirement already satisfied: pyparsing>=2.3.1 in /Users/earlight/Desktop/MIT/-Fall-2024/6.4210/project/ManipulationFinal/.venv/lib/python3.11/site-packages (from matplotlib->drake>=1.32.0->manipulation==2024.10.22->-r ./requirements.txt (line 3)) (3.2.0)\n",
      "Requirement already satisfied: python-dateutil>=2.7 in /Users/earlight/Desktop/MIT/-Fall-2024/6.4210/project/ManipulationFinal/.venv/lib/python3.11/site-packages (from matplotlib->drake>=1.32.0->manipulation==2024.10.22->-r ./requirements.txt (line 3)) (2.9.0.post0)\n",
      "Requirement already satisfied: rich in /Users/earlight/Desktop/MIT/-Fall-2024/6.4210/project/ManipulationFinal/.venv/lib/python3.11/site-packages (from meshio->trimesh[recommend]<4.2.0,>=4.0.0->manipulation==2024.10.22->-r ./requirements.txt (line 3)) (13.9.4)\n",
      "Requirement already satisfied: pytz>=2020.1 in /Users/earlight/Desktop/MIT/-Fall-2024/6.4210/project/ManipulationFinal/.venv/lib/python3.11/site-packages (from pandas->nevergrad>=0.4.3->manipulation==2024.10.22->-r ./requirements.txt (line 3)) (2024.2)\n",
      "Requirement already satisfied: tzdata>=2022.7 in /Users/earlight/Desktop/MIT/-Fall-2024/6.4210/project/ManipulationFinal/.venv/lib/python3.11/site-packages (from pandas->nevergrad>=0.4.3->manipulation==2024.10.22->-r ./requirements.txt (line 3)) (2024.2)\n",
      "Requirement already satisfied: Cython in /Users/earlight/Desktop/MIT/-Fall-2024/6.4210/project/ManipulationFinal/.venv/lib/python3.11/site-packages (from python-fcl->trimesh[recommend]<4.2.0,>=4.0.0->manipulation==2024.10.22->-r ./requirements.txt (line 3)) (3.0.11)\n",
      "Requirement already satisfied: imageio>=2.33 in /Users/earlight/Desktop/MIT/-Fall-2024/6.4210/project/ManipulationFinal/.venv/lib/python3.11/site-packages (from scikit-image->trimesh[recommend]<4.2.0,>=4.0.0->manipulation==2024.10.22->-r ./requirements.txt (line 3)) (2.36.1)\n",
      "Requirement already satisfied: tifffile>=2022.8.12 in /Users/earlight/Desktop/MIT/-Fall-2024/6.4210/project/ManipulationFinal/.venv/lib/python3.11/site-packages (from scikit-image->trimesh[recommend]<4.2.0,>=4.0.0->manipulation==2024.10.22->-r ./requirements.txt (line 3)) (2024.9.20)\n",
      "Requirement already satisfied: lazy-loader>=0.4 in /Users/earlight/Desktop/MIT/-Fall-2024/6.4210/project/ManipulationFinal/.venv/lib/python3.11/site-packages (from scikit-image->trimesh[recommend]<4.2.0,>=4.0.0->manipulation==2024.10.22->-r ./requirements.txt (line 3)) (0.4)\n",
      "Requirement already satisfied: mpmath<1.4,>=1.1.0 in /Users/earlight/Desktop/MIT/-Fall-2024/6.4210/project/ManipulationFinal/.venv/lib/python3.11/site-packages (from sympy->torch<2.4.0,>=2.0.1->manipulation==2024.10.22->-r ./requirements.txt (line 3)) (1.3.0)\n",
      "Requirement already satisfied: parso<0.9.0,>=0.8.4 in /Users/earlight/Desktop/MIT/-Fall-2024/6.4210/project/ManipulationFinal/.venv/lib/python3.11/site-packages (from jedi>=0.16->ipython>=6.1.0->ipywidgets>=8->manipulation==2024.10.22->-r ./requirements.txt (line 3)) (0.8.4)\n",
      "Requirement already satisfied: ptyprocess>=0.5 in /Users/earlight/Desktop/MIT/-Fall-2024/6.4210/project/ManipulationFinal/.venv/lib/python3.11/site-packages (from pexpect>4.3->ipython>=6.1.0->ipywidgets>=8->manipulation==2024.10.22->-r ./requirements.txt (line 3)) (0.7.0)\n",
      "Requirement already satisfied: wcwidth in /Users/earlight/Desktop/MIT/-Fall-2024/6.4210/project/ManipulationFinal/.venv/lib/python3.11/site-packages (from prompt_toolkit<3.1.0,>=3.0.41->ipython>=6.1.0->ipywidgets>=8->manipulation==2024.10.22->-r ./requirements.txt (line 3)) (0.2.13)\n",
      "Requirement already satisfied: six>=1.5 in /Users/earlight/Desktop/MIT/-Fall-2024/6.4210/project/ManipulationFinal/.venv/lib/python3.11/site-packages (from python-dateutil>=2.7->matplotlib->drake>=1.32.0->manipulation==2024.10.22->-r ./requirements.txt (line 3)) (1.17.0)\n",
      "Requirement already satisfied: joblib>=1.2.0 in /Users/earlight/Desktop/MIT/-Fall-2024/6.4210/project/ManipulationFinal/.venv/lib/python3.11/site-packages (from scikit-learn>=0.18.0->bayesian-optimization==1.4.0->nevergrad>=0.4.3->manipulation==2024.10.22->-r ./requirements.txt (line 3)) (1.4.2)\n",
      "Requirement already satisfied: threadpoolctl>=3.1.0 in /Users/earlight/Desktop/MIT/-Fall-2024/6.4210/project/ManipulationFinal/.venv/lib/python3.11/site-packages (from scikit-learn>=0.18.0->bayesian-optimization==1.4.0->nevergrad>=0.4.3->manipulation==2024.10.22->-r ./requirements.txt (line 3)) (3.5.0)\n",
      "Requirement already satisfied: signature_dispatch~=1.0 in /Users/earlight/Desktop/MIT/-Fall-2024/6.4210/project/ManipulationFinal/.venv/lib/python3.11/site-packages (from autoprop->glooey->trimesh[recommend]<4.2.0,>=4.0.0->manipulation==2024.10.22->-r ./requirements.txt (line 3)) (1.0.1)\n",
      "Requirement already satisfied: markdown-it-py>=2.2.0 in /Users/earlight/Desktop/MIT/-Fall-2024/6.4210/project/ManipulationFinal/.venv/lib/python3.11/site-packages (from rich->meshio->trimesh[recommend]<4.2.0,>=4.0.0->manipulation==2024.10.22->-r ./requirements.txt (line 3)) (3.0.0)\n",
      "Requirement already satisfied: executing>=1.2.0 in /Users/earlight/Desktop/MIT/-Fall-2024/6.4210/project/ManipulationFinal/.venv/lib/python3.11/site-packages (from stack_data->ipython>=6.1.0->ipywidgets>=8->manipulation==2024.10.22->-r ./requirements.txt (line 3)) (2.1.0)\n",
      "Requirement already satisfied: asttokens>=2.1.0 in /Users/earlight/Desktop/MIT/-Fall-2024/6.4210/project/ManipulationFinal/.venv/lib/python3.11/site-packages (from stack_data->ipython>=6.1.0->ipywidgets>=8->manipulation==2024.10.22->-r ./requirements.txt (line 3)) (3.0.0)\n",
      "Requirement already satisfied: pure-eval in /Users/earlight/Desktop/MIT/-Fall-2024/6.4210/project/ManipulationFinal/.venv/lib/python3.11/site-packages (from stack_data->ipython>=6.1.0->ipywidgets>=8->manipulation==2024.10.22->-r ./requirements.txt (line 3)) (0.2.3)\n",
      "Requirement already satisfied: mdurl~=0.1 in /Users/earlight/Desktop/MIT/-Fall-2024/6.4210/project/ManipulationFinal/.venv/lib/python3.11/site-packages (from markdown-it-py>=2.2.0->rich->meshio->trimesh[recommend]<4.2.0,>=4.0.0->manipulation==2024.10.22->-r ./requirements.txt (line 3)) (0.1.2)\n",
      "Requirement already satisfied: typeguard~=3.0 in /Users/earlight/Desktop/MIT/-Fall-2024/6.4210/project/ManipulationFinal/.venv/lib/python3.11/site-packages (from signature_dispatch~=1.0->autoprop->glooey->trimesh[recommend]<4.2.0,>=4.0.0->manipulation==2024.10.22->-r ./requirements.txt (line 3)) (3.0.2)\n"
     ]
    }
   ],
   "source": [
    "%%bash\n",
    "# If your project has a 'requirements.txt' file, we'll install it here apart from blacklisted packages that interfere with Deepnote (see above).\n",
    "cd ./assets\n",
    "if test -f requirements.txt\n",
    "  then\n",
    "    sed -i '/jedi/d;/jupyter/d;' ./requirements.txt\n",
    "    pip install -r ./requirements.txt\n",
    "  else echo \"There's no requirements.txt, so nothing to install. This is the case with most projects.\"\n",
    "fi"
   ]
  },
  {
   "cell_type": "markdown",
   "metadata": {
    "created_in_deepnote_cell": true,
    "deepnote_cell_type": "markdown"
   },
   "source": [
    "<a style='text-decoration:none;line-height:16px;display:flex;color:#5B5B62;padding:10px;justify-content:end;' href='https://deepnote.com?utm_source=created-in-deepnote-cell&projectId=e5154ef9-04e9-4f14-b8fb-c8d5ed00a83c' target=\"_blank\">\n",
    "<img alt='Created in deepnote.com' style='display:inline;max-height:16px;margin:0px;margin-right:7.5px;' src='data:image/svg+xml;base64,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' > </img>\n",
    "Created in <span style='font-weight:600;margin-left:4px;'>Deepnote</span></a>"
   ]
  }
 ],
 "metadata": {
  "deepnote_notebook_id": "34184dcad5654aa48edf77758d7f51d1",
  "kernelspec": {
   "display_name": ".venv",
   "language": "python",
   "name": "python3"
  },
  "language_info": {
   "codemirror_mode": {
    "name": "ipython",
    "version": 3
   },
   "file_extension": ".py",
   "mimetype": "text/x-python",
   "name": "python",
   "nbconvert_exporter": "python",
   "pygments_lexer": "ipython3",
   "version": "3.11.5"
  }
 },
 "nbformat": 4,
 "nbformat_minor": 0
}
